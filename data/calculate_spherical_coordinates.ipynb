{
 "cells": [
  {
   "cell_type": "code",
   "execution_count": 527,
   "id": "7d3c9b35-972d-4b5d-b831-113d6a1b8d07",
   "metadata": {},
   "outputs": [],
   "source": [
    "import pandas as pd\n",
    "import numpy as np"
   ]
  },
  {
   "cell_type": "markdown",
   "id": "398f98e3-9cc4-4bd7-b0ca-bc7ea85d4264",
   "metadata": {},
   "source": [
    "https://en.wikipedia.org/wiki/Spherical_coordinate_system\n",
    "\n",
    "* **assuming** azimuthg clockwise from due north at 0°, so east is 90°, south is 180°, and west is 270°\n",
    "* **altitude** is 0° at the horizon, 90° straight up"
   ]
  },
  {
   "cell_type": "code",
   "execution_count": 528,
   "id": "c2e2e1e9-3caf-45d6-8f05-2a52501105ac",
   "metadata": {},
   "outputs": [],
   "source": [
    "year = 2023\n",
    "freq='60min' \n",
    "\n",
    "test_one_day = True\n",
    "if not test_one_day:\n",
    "    idx = pd.date_range(start=f'{year}-01-01', end=f'{year + 1}-01-01', freq=freq)\n",
    "else:\n",
    "    idx = pd.date_range(start=f'{year}-01-01', end=f'{year}-01-02', freq=freq)"
   ]
  },
  {
   "cell_type": "code",
   "execution_count": 538,
   "id": "8a243fdd-d5b8-4a38-a6ea-8c535f43125c",
   "metadata": {},
   "outputs": [],
   "source": [
    "df = pd.DataFrame(index=idx, columns=['azimuth', 'altitude', 'servo_a', 'servo_b'])"
   ]
  },
  {
   "cell_type": "markdown",
   "id": "12822176-c218-4b42-ac9b-3d3e921a4786",
   "metadata": {},
   "source": [
    "random angles"
   ]
  },
  {
   "cell_type": "raw",
   "id": "9706993a-745d-46fc-a120-de05a8747da2",
   "metadata": {},
   "source": [
    "df.azimuth = np.random.default_rng().random(len(df))\n",
    "df.altitude = np.random.default_rng().random(len(df))"
   ]
  },
  {
   "cell_type": "markdown",
   "id": "715f5a1d-0460-44cd-8a70-7a23cb6fa154",
   "metadata": {},
   "source": [
    "angles for a made up day"
   ]
  },
  {
   "cell_type": "code",
   "execution_count": 560,
   "id": "2fea3463-dbf4-4461-9591-2ffeb4e4da04",
   "metadata": {},
   "outputs": [],
   "source": [
    "noon_offset = 0 # -75\n",
    "altitude_min = -40 #-20\n",
    "altitude_max = 40 #60\n",
    "\n",
    "df.azimuth = ((df.index.minute + 60 * df.index.hour + noon_offset) / (60 * 24) * 360) % 360\n",
    "df.altitude = (np.sin(np.radians(df.azimuth) - np.pi / 2) / 2 + 0.5) * (altitude_max - altitude_min) + altitude_min\n",
    "\n",
    "df.altitude = np.round(df.altitude, 2)\n",
    "df.azimuth = np.round(df.azimuth, 2)"
   ]
  },
  {
   "cell_type": "code",
   "execution_count": 561,
   "id": "1f3486ee-7793-404a-90d3-bc3dbd470a78",
   "metadata": {},
   "outputs": [],
   "source": [
    "df.servo_a = df.azimuth - 90\n",
    "df.servo_b = (np.sin(np.radians(df.servo_a)) / 2 + 0.5) * (altitude_max - altitude_min) + altitude_min\n",
    "\n",
    "df.servo_a = np.round(df.servo_a, 2)\n",
    "df.servo_b = np.round(df.servo_b, 2)"
   ]
  },
  {
   "cell_type": "code",
   "execution_count": 563,
   "id": "31745c0c-4ca7-4de2-b9fe-40d8bfc4fae0",
   "metadata": {},
   "outputs": [
    {
     "data": {
      "text/plain": [
       "8.0"
      ]
     },
     "execution_count": 563,
     "metadata": {},
     "output_type": "execute_result"
    }
   ],
   "source": [
    "24*60 / 180"
   ]
  },
  {
   "cell_type": "code",
   "execution_count": 562,
   "id": "d96a46b8-7851-4667-b2ac-4ef342e41f43",
   "metadata": {},
   "outputs": [
    {
     "data": {
      "text/html": [
       "<div>\n",
       "<style scoped>\n",
       "    .dataframe tbody tr th:only-of-type {\n",
       "        vertical-align: middle;\n",
       "    }\n",
       "\n",
       "    .dataframe tbody tr th {\n",
       "        vertical-align: top;\n",
       "    }\n",
       "\n",
       "    .dataframe thead th {\n",
       "        text-align: right;\n",
       "    }\n",
       "</style>\n",
       "<table border=\"1\" class=\"dataframe\">\n",
       "  <thead>\n",
       "    <tr style=\"text-align: right;\">\n",
       "      <th></th>\n",
       "      <th>azimuth</th>\n",
       "      <th>altitude</th>\n",
       "      <th>servo_a</th>\n",
       "      <th>servo_b</th>\n",
       "    </tr>\n",
       "  </thead>\n",
       "  <tbody>\n",
       "    <tr>\n",
       "      <th>2023-01-01 00:00:00</th>\n",
       "      <td>0.0</td>\n",
       "      <td>-40.00</td>\n",
       "      <td>-90.0</td>\n",
       "      <td>-40.00</td>\n",
       "    </tr>\n",
       "    <tr>\n",
       "      <th>2023-01-01 01:00:00</th>\n",
       "      <td>15.0</td>\n",
       "      <td>-38.64</td>\n",
       "      <td>-75.0</td>\n",
       "      <td>-38.64</td>\n",
       "    </tr>\n",
       "    <tr>\n",
       "      <th>2023-01-01 02:00:00</th>\n",
       "      <td>30.0</td>\n",
       "      <td>-34.64</td>\n",
       "      <td>-60.0</td>\n",
       "      <td>-34.64</td>\n",
       "    </tr>\n",
       "    <tr>\n",
       "      <th>2023-01-01 03:00:00</th>\n",
       "      <td>45.0</td>\n",
       "      <td>-28.28</td>\n",
       "      <td>-45.0</td>\n",
       "      <td>-28.28</td>\n",
       "    </tr>\n",
       "    <tr>\n",
       "      <th>2023-01-01 04:00:00</th>\n",
       "      <td>60.0</td>\n",
       "      <td>-20.00</td>\n",
       "      <td>-30.0</td>\n",
       "      <td>-20.00</td>\n",
       "    </tr>\n",
       "    <tr>\n",
       "      <th>2023-01-01 05:00:00</th>\n",
       "      <td>75.0</td>\n",
       "      <td>-10.35</td>\n",
       "      <td>-15.0</td>\n",
       "      <td>-10.35</td>\n",
       "    </tr>\n",
       "    <tr>\n",
       "      <th>2023-01-01 06:00:00</th>\n",
       "      <td>90.0</td>\n",
       "      <td>0.00</td>\n",
       "      <td>0.0</td>\n",
       "      <td>0.00</td>\n",
       "    </tr>\n",
       "    <tr>\n",
       "      <th>2023-01-01 07:00:00</th>\n",
       "      <td>105.0</td>\n",
       "      <td>10.35</td>\n",
       "      <td>15.0</td>\n",
       "      <td>10.35</td>\n",
       "    </tr>\n",
       "    <tr>\n",
       "      <th>2023-01-01 08:00:00</th>\n",
       "      <td>120.0</td>\n",
       "      <td>20.00</td>\n",
       "      <td>30.0</td>\n",
       "      <td>20.00</td>\n",
       "    </tr>\n",
       "    <tr>\n",
       "      <th>2023-01-01 09:00:00</th>\n",
       "      <td>135.0</td>\n",
       "      <td>28.28</td>\n",
       "      <td>45.0</td>\n",
       "      <td>28.28</td>\n",
       "    </tr>\n",
       "    <tr>\n",
       "      <th>2023-01-01 10:00:00</th>\n",
       "      <td>150.0</td>\n",
       "      <td>34.64</td>\n",
       "      <td>60.0</td>\n",
       "      <td>34.64</td>\n",
       "    </tr>\n",
       "    <tr>\n",
       "      <th>2023-01-01 11:00:00</th>\n",
       "      <td>165.0</td>\n",
       "      <td>38.64</td>\n",
       "      <td>75.0</td>\n",
       "      <td>38.64</td>\n",
       "    </tr>\n",
       "    <tr>\n",
       "      <th>2023-01-01 12:00:00</th>\n",
       "      <td>180.0</td>\n",
       "      <td>40.00</td>\n",
       "      <td>90.0</td>\n",
       "      <td>40.00</td>\n",
       "    </tr>\n",
       "    <tr>\n",
       "      <th>2023-01-01 13:00:00</th>\n",
       "      <td>195.0</td>\n",
       "      <td>38.64</td>\n",
       "      <td>105.0</td>\n",
       "      <td>38.64</td>\n",
       "    </tr>\n",
       "    <tr>\n",
       "      <th>2023-01-01 14:00:00</th>\n",
       "      <td>210.0</td>\n",
       "      <td>34.64</td>\n",
       "      <td>120.0</td>\n",
       "      <td>34.64</td>\n",
       "    </tr>\n",
       "    <tr>\n",
       "      <th>2023-01-01 15:00:00</th>\n",
       "      <td>225.0</td>\n",
       "      <td>28.28</td>\n",
       "      <td>135.0</td>\n",
       "      <td>28.28</td>\n",
       "    </tr>\n",
       "    <tr>\n",
       "      <th>2023-01-01 16:00:00</th>\n",
       "      <td>240.0</td>\n",
       "      <td>20.00</td>\n",
       "      <td>150.0</td>\n",
       "      <td>20.00</td>\n",
       "    </tr>\n",
       "    <tr>\n",
       "      <th>2023-01-01 17:00:00</th>\n",
       "      <td>255.0</td>\n",
       "      <td>10.35</td>\n",
       "      <td>165.0</td>\n",
       "      <td>10.35</td>\n",
       "    </tr>\n",
       "    <tr>\n",
       "      <th>2023-01-01 18:00:00</th>\n",
       "      <td>270.0</td>\n",
       "      <td>0.00</td>\n",
       "      <td>180.0</td>\n",
       "      <td>0.00</td>\n",
       "    </tr>\n",
       "    <tr>\n",
       "      <th>2023-01-01 19:00:00</th>\n",
       "      <td>285.0</td>\n",
       "      <td>-10.35</td>\n",
       "      <td>195.0</td>\n",
       "      <td>-10.35</td>\n",
       "    </tr>\n",
       "    <tr>\n",
       "      <th>2023-01-01 20:00:00</th>\n",
       "      <td>300.0</td>\n",
       "      <td>-20.00</td>\n",
       "      <td>210.0</td>\n",
       "      <td>-20.00</td>\n",
       "    </tr>\n",
       "    <tr>\n",
       "      <th>2023-01-01 21:00:00</th>\n",
       "      <td>315.0</td>\n",
       "      <td>-28.28</td>\n",
       "      <td>225.0</td>\n",
       "      <td>-28.28</td>\n",
       "    </tr>\n",
       "    <tr>\n",
       "      <th>2023-01-01 22:00:00</th>\n",
       "      <td>330.0</td>\n",
       "      <td>-34.64</td>\n",
       "      <td>240.0</td>\n",
       "      <td>-34.64</td>\n",
       "    </tr>\n",
       "    <tr>\n",
       "      <th>2023-01-01 23:00:00</th>\n",
       "      <td>345.0</td>\n",
       "      <td>-38.64</td>\n",
       "      <td>255.0</td>\n",
       "      <td>-38.64</td>\n",
       "    </tr>\n",
       "    <tr>\n",
       "      <th>2023-01-02 00:00:00</th>\n",
       "      <td>0.0</td>\n",
       "      <td>-40.00</td>\n",
       "      <td>-90.0</td>\n",
       "      <td>-40.00</td>\n",
       "    </tr>\n",
       "  </tbody>\n",
       "</table>\n",
       "</div>"
      ],
      "text/plain": [
       "                     azimuth  altitude  servo_a  servo_b\n",
       "2023-01-01 00:00:00      0.0    -40.00    -90.0   -40.00\n",
       "2023-01-01 01:00:00     15.0    -38.64    -75.0   -38.64\n",
       "2023-01-01 02:00:00     30.0    -34.64    -60.0   -34.64\n",
       "2023-01-01 03:00:00     45.0    -28.28    -45.0   -28.28\n",
       "2023-01-01 04:00:00     60.0    -20.00    -30.0   -20.00\n",
       "2023-01-01 05:00:00     75.0    -10.35    -15.0   -10.35\n",
       "2023-01-01 06:00:00     90.0      0.00      0.0     0.00\n",
       "2023-01-01 07:00:00    105.0     10.35     15.0    10.35\n",
       "2023-01-01 08:00:00    120.0     20.00     30.0    20.00\n",
       "2023-01-01 09:00:00    135.0     28.28     45.0    28.28\n",
       "2023-01-01 10:00:00    150.0     34.64     60.0    34.64\n",
       "2023-01-01 11:00:00    165.0     38.64     75.0    38.64\n",
       "2023-01-01 12:00:00    180.0     40.00     90.0    40.00\n",
       "2023-01-01 13:00:00    195.0     38.64    105.0    38.64\n",
       "2023-01-01 14:00:00    210.0     34.64    120.0    34.64\n",
       "2023-01-01 15:00:00    225.0     28.28    135.0    28.28\n",
       "2023-01-01 16:00:00    240.0     20.00    150.0    20.00\n",
       "2023-01-01 17:00:00    255.0     10.35    165.0    10.35\n",
       "2023-01-01 18:00:00    270.0      0.00    180.0     0.00\n",
       "2023-01-01 19:00:00    285.0    -10.35    195.0   -10.35\n",
       "2023-01-01 20:00:00    300.0    -20.00    210.0   -20.00\n",
       "2023-01-01 21:00:00    315.0    -28.28    225.0   -28.28\n",
       "2023-01-01 22:00:00    330.0    -34.64    240.0   -34.64\n",
       "2023-01-01 23:00:00    345.0    -38.64    255.0   -38.64\n",
       "2023-01-02 00:00:00      0.0    -40.00    -90.0   -40.00"
      ]
     },
     "execution_count": 562,
     "metadata": {},
     "output_type": "execute_result"
    }
   ],
   "source": [
    "df"
   ]
  },
  {
   "cell_type": "markdown",
   "id": "3c403f3e-1c17-4cbe-8309-eb6d78a11f02",
   "metadata": {},
   "source": [
    "freq of the data needs to be smaller if the step differences in altitude are too large for linear interpolation between the steps on the sculpture"
   ]
  },
  {
   "cell_type": "code",
   "execution_count": 549,
   "id": "384e9066-7d73-4929-a387-829dbafa6fd2",
   "metadata": {},
   "outputs": [
    {
     "data": {
      "image/png": "[encoded data removed]",
      "text/plain": [
       "<Figure size 640x480 with 1 Axes>"
      ]
     },
     "metadata": {},
     "output_type": "display_data"
    }
   ],
   "source": [
    "if test_one_day:\n",
    "    df.plot()"
   ]
  },
  {
   "cell_type": "code",
   "execution_count": 533,
   "id": "12ce2e9b-8b2b-4d08-a982-e7e17527d6c7",
   "metadata": {},
   "outputs": [
    {
     "data": {
      "text/plain": [
       "count    24.000000\n",
       "mean      6.666667\n",
       "std       3.242005\n",
       "min       1.360000\n",
       "25%       4.000000\n",
       "50%       7.320000\n",
       "75%       9.650000\n",
       "max      10.350000\n",
       "Name: altitude, dtype: float64"
      ]
     },
     "execution_count": 533,
     "metadata": {},
     "output_type": "execute_result"
    }
   ],
   "source": [
    "df.altitude.diff().abs().describe()"
   ]
  },
  {
   "cell_type": "code",
   "execution_count": 534,
   "id": "f850e65b-a4a9-4213-8263-3da52b5c4078",
   "metadata": {},
   "outputs": [
    {
     "name": "stdout",
     "output_type": "stream",
     "text": [
      "average of 54 steps per altitude revolution and 24 steps per azimuth revolution\n"
     ]
    }
   ],
   "source": [
    "print(f'average of {360/df.altitude.diff().abs().mean():.0f} steps per altitude revolution and {len(df[(df.index.day == 1) & (df.index.month == 1) & (df.index.year == year)]):.0f} steps per azimuth revolution')"
   ]
  },
  {
   "cell_type": "code",
   "execution_count": 535,
   "id": "91b9a477-55fb-4b47-bdf9-e751f672d125",
   "metadata": {},
   "outputs": [],
   "source": [
    "if not test_one_day:\n",
    "    df.to_csv(f'{year}_{freq}_spherical_coordinates.csv', index=True, header=True)"
   ]
  },
  {
   "cell_type": "code",
   "execution_count": null,
   "id": "92f6fcb7-d9db-4123-95fb-1939e659eadd",
   "metadata": {},
   "outputs": [],
   "source": []
  }
 ],
 "metadata": {
  "kernelspec": {
   "display_name": "Python 3 (ipykernel)",
   "language": "python",
   "name": "python3"
  },
  "language_info": {
   "codemirror_mode": {
    "name": "ipython",
    "version": 3
   },
   "file_extension": ".py",
   "mimetype": "text/x-python",
   "name": "python",
   "nbconvert_exporter": "python",
   "pygments_lexer": "ipython3",
   "version": "3.9.7"
  }
 },
 "nbformat": 4,
 "nbformat_minor": 5
}
